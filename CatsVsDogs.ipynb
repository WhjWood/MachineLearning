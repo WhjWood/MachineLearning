{
 "cells": [
  {
   "cell_type": "markdown",
   "metadata": {},
   "source": [
    "from shutil import copyfile\n",
    "import os\n",
    "\n",
    "train_list = os.listdir(\"./train\")\n",
    "\n",
    "train_cats = \"./Images/Training/Cat/\"\n",
    "train_dogs = \"./Images/Training/Dog/\"\n",
    "\n",
    "for f in train_list:\n",
    "    if f.startswith(\"cat\"):\n",
    "        copyfile(\"./train/\"+f, train_cats+f)\n",
    "    elif f.startswith(\"dog\"):\n",
    "        copyfile(\"./train/\"+f, train_dogs+f)\n",
    "        \n",
    "    else:\n",
    "        print(f, \"not labelled\")"
   ]
  },
  {
   "cell_type": "code",
   "execution_count": 1,
   "metadata": {},
   "outputs": [],
   "source": [
    "import tensorflow as tf"
   ]
  },
  {
   "cell_type": "code",
   "execution_count": 2,
   "metadata": {},
   "outputs": [
    {
     "name": "stderr",
     "output_type": "stream",
     "text": [
      "WARNING: Logging before flag parsing goes to stderr.\n",
      "W0806 19:59:06.269003 140131774900032 deprecation.py:506] From /home/will/anaconda3/lib/python3.7/site-packages/tensorflow/python/ops/init_ops.py:1251: calling VarianceScaling.__init__ (from tensorflow.python.ops.init_ops) with dtype is deprecated and will be removed in a future version.\n",
      "Instructions for updating:\n",
      "Call initializer instance with the dtype argument instead of passing it to the constructor\n"
     ]
    }
   ],
   "source": [
    "model = tf.keras.models.Sequential([\n",
    "    # Note the input shape is the desired size of the image 150x150 with 3 bytes color\n",
    "    # This is the first convolution\n",
    "    tf.keras.layers.Conv2D(16, (3,3), activation='relu', input_shape=(150, 150, 3)),\n",
    "    tf.keras.layers.MaxPooling2D(2, 2),\n",
    "    # The second convolution\n",
    "    tf.keras.layers.Conv2D(32, (3,3), activation='relu'),\n",
    "    tf.keras.layers.MaxPooling2D(2,2),\n",
    "    # The third convolution\n",
    "    tf.keras.layers.Conv2D(64, (3,3), activation='relu'),\n",
    "    tf.keras.layers.MaxPooling2D(2,2),\n",
    "    # The fourth convolution\n",
    "    tf.keras.layers.Conv2D(64, (3,3), activation='relu'),\n",
    "    tf.keras.layers.MaxPooling2D(2,2),\n",
    "    # The fifth convolution\n",
    "    #tf.keras.layers.Conv2D(64, (3,3), activation='relu'),\n",
    "    #tf.keras.layers.MaxPooling2D(2,2),\n",
    "    # Flatten the results to feed into a DNN\n",
    "    tf.keras.layers.Flatten(),\n",
    "    # 512 neuron hidden layer\n",
    "    tf.keras.layers.Dense(512, activation='relu'),\n",
    "    # Only 1 output neuron. It will contain a value from 0-1 where 0 for 1 class ('horses') and 1 for the other ('humans')\n",
    "    tf.keras.layers.Dense(1, activation='sigmoid')\n",
    "])"
   ]
  },
  {
   "cell_type": "code",
   "execution_count": 3,
   "metadata": {},
   "outputs": [
    {
     "name": "stderr",
     "output_type": "stream",
     "text": [
      "W0806 19:59:07.053144 140131774900032 deprecation.py:323] From /home/will/anaconda3/lib/python3.7/site-packages/tensorflow/python/ops/nn_impl.py:180: add_dispatch_support.<locals>.wrapper (from tensorflow.python.ops.array_ops) is deprecated and will be removed in a future version.\n",
      "Instructions for updating:\n",
      "Use tf.where in 2.0, which has the same broadcast rule as np.where\n"
     ]
    }
   ],
   "source": [
    "from tensorflow.keras.optimizers import RMSprop\n",
    "\n",
    "model.compile(loss='binary_crossentropy',\n",
    "              optimizer=RMSprop(lr=0.001),\n",
    "              metrics=['acc'])"
   ]
  },
  {
   "cell_type": "code",
   "execution_count": 4,
   "metadata": {},
   "outputs": [
    {
     "name": "stdout",
     "output_type": "stream",
     "text": [
      "Found 19998 images belonging to 2 classes.\n",
      "Found 5002 images belonging to 2 classes.\n"
     ]
    }
   ],
   "source": [
    "from tensorflow.keras.preprocessing.image import ImageDataGenerator\n",
    "\n",
    "# All images will be rescaled by 1./255\n",
    "train_datagen = ImageDataGenerator(rescale=1/255)\n",
    "validation_datagen = ImageDataGenerator(rescale=1/255)\n",
    "\n",
    "# Flow training images in batches of 128 using train_datagen generator\n",
    "train_generator = train_datagen.flow_from_directory(\n",
    "        './Images/Training',  # This is the source directory for training images\n",
    "        target_size=(150, 150),  # All images will be resized to 150x150\n",
    "        batch_size=100,\n",
    "        # Since we use binary_crossentropy loss, we need binary labels\n",
    "        class_mode='binary')\n",
    "# make sure to use 250 steps per epoch\n",
    "\n",
    "\n",
    "validation_generator = validation_datagen.flow_from_directory(\n",
    "        './Images/Validation',  # This is the source directory for training images\n",
    "        target_size=(150, 150),  # All images will be resized to 150x150\n",
    "        batch_size=25,\n",
    "        # Since we use binary_crossentropy loss, we need binary labels\n",
    "        class_mode='binary')"
   ]
  },
  {
   "cell_type": "code",
   "execution_count": null,
   "metadata": {},
   "outputs": [
    {
     "name": "stdout",
     "output_type": "stream",
     "text": [
      "Epoch 1/8\n",
      "200/200 [==============================] - 403s 2s/step - loss: 0.6500 - acc: 0.6160 - val_loss: 0.5826 - val_acc: 0.6250\n",
      "Epoch 2/8\n",
      "200/200 [==============================] - 384s 2s/step - loss: 0.5317 - acc: 0.7329 - val_loss: 0.4818 - val_acc: 0.7650\n",
      "Epoch 3/8\n",
      "200/200 [==============================] - 351s 2s/step - loss: 0.4623 - acc: 0.7798 - val_loss: 0.3919 - val_acc: 0.8300\n",
      "Epoch 4/8\n",
      "200/200 [==============================] - 343s 2s/step - loss: 0.4077 - acc: 0.8124 - val_loss: 0.5027 - val_acc: 0.7350\n",
      "Epoch 5/8\n",
      "200/200 [==============================] - 356s 2s/step - loss: 0.3588 - acc: 0.8387 - val_loss: 0.3992 - val_acc: 0.8300\n",
      "Epoch 6/8\n",
      "200/200 [==============================] - 357s 2s/step - loss: 0.3136 - acc: 0.8621 - val_loss: 0.4082 - val_acc: 0.8350\n",
      "Epoch 7/8\n",
      "200/200 [==============================] - 324s 2s/step - loss: 0.2692 - acc: 0.8840 - val_loss: 0.4123 - val_acc: 0.8450\n",
      "Epoch 8/8\n",
      "200/200 [==============================] - 337s 2s/step - loss: 0.2289 - acc: 0.9032 - val_loss: 0.4207 - val_acc: 0.8750\n"
     ]
    }
   ],
   "source": [
    "history = model.fit_generator(\n",
    "      train_generator,\n",
    "      steps_per_epoch=200,  \n",
    "      epochs=8,\n",
    "      verbose=1,\n",
    "      validation_data = validation_generator,\n",
    "      validation_steps=8)\n",
    "\n",
    "\n"
   ]
  }
 ],
 "metadata": {
  "kernelspec": {
   "display_name": "Python 3",
   "language": "python",
   "name": "python3"
  },
  "language_info": {
   "codemirror_mode": {
    "name": "ipython",
    "version": 3
   },
   "file_extension": ".py",
   "mimetype": "text/x-python",
   "name": "python",
   "nbconvert_exporter": "python",
   "pygments_lexer": "ipython3",
   "version": "3.7.3"
  }
 },
 "nbformat": 4,
 "nbformat_minor": 2
}
