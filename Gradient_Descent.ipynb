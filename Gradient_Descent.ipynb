{
 "cells": [
  {
   "cell_type": "code",
   "execution_count": 1,
   "metadata": {},
   "outputs": [
    {
     "ename": "SyntaxError",
     "evalue": "invalid syntax (<ipython-input-1-f9eb45a1d169>, line 1)",
     "output_type": "error",
     "traceback": [
      "\u001b[0;36m  File \u001b[0;32m\"<ipython-input-1-f9eb45a1d169>\"\u001b[0;36m, line \u001b[0;32m1\u001b[0m\n\u001b[0;31m    Gradient Descent\u001b[0m\n\u001b[0m                   ^\u001b[0m\n\u001b[0;31mSyntaxError\u001b[0m\u001b[0;31m:\u001b[0m invalid syntax\n"
     ]
    }
   ],
   "source": [
    "Gradient Descent\n",
    "\n",
    "WHJ Wood July 2019\n",
    "\n",
    "Here i demonstrate the use of gradient descent for linear regression.\n",
    "\n",
    "Part 1. \n",
    "Below, I have created matrices X and y. \n",
    "y is a linear combination of the columns of x as is assumed in the linear regression model."
   ]
  },
  {
   "cell_type": "code",
   "execution_count": 2,
   "metadata": {},
   "outputs": [
    {
     "name": "stdout",
     "output_type": "stream",
     "text": [
      "The fitted coefficients are: \n",
      "[[2.09560912]\n",
      " [1.09983984]\n",
      " [2.1136435 ]] 3.5836887456316284\n",
      "y and predicted y are: \n",
      "[[21 28 28 25 31 28]]\n",
      "[[20.73291093 28.24168308 27.96554016 24.90609479 31.05691856 27.99747319]]\n"
     ]
    },
    {
     "data": {
      "text/plain": [
       "<Figure size 640x480 with 1 Axes>"
      ]
     },
     "metadata": {},
     "output_type": "display_data"
    }
   ],
   "source": [
    "import numpy as np\n",
    "import pandas as pd\n",
    "import matplotlib.pyplot as plt\n",
    "\n",
    "def Cost(y1,y2):\n",
    "    d = np.array(y1)-np.array(y2)\n",
    "    m = float(np.size(y1))\n",
    "\n",
    "    J = (1/(2*m))*np.sum(d**2)\n",
    "    return J\n",
    "\n",
    "def Linear_fit(X,y):\n",
    "    \"\"\"Uses gradient descent (least-squares) to fit a linear model\"\"\"\n",
    "    \n",
    "    Theta = np.matrix(np.ones((1,X.shape[1])))\n",
    "    print(theta)\n",
    "\n",
    "x1 = np.matrix([1,2,3,4,5,6])\n",
    "x2 = np.matrix([6,9,3,6,2,5])\n",
    "x3 = np.matrix([4,5,7,3,7,3])\n",
    "X = np.matrix(np.concatenate((x1,x2,x3), axis=0)).T\n",
    "y = 5 + X*(np.matrix([2,1,2]).T)\n",
    "\n",
    "\n",
    "\n",
    "def Linear_fit(X,y,iterations,learning_rate,regularise=False):\n",
    "    \"\"\"Uses gradient descent (least-squares) to fit a linear model\"\"\"\n",
    "    \n",
    "    # first we add a column of ones for the constant\n",
    "    X = np.concatenate((np.matrix(np.ones((X.shape[0],1))),X), axis=1)\n",
    "    \n",
    "    # Then we initiate the vector representing the cofactors in the model\n",
    "    Theta = np.matrix(np.zeros((1,X.shape[1]))).T\n",
    "    \n",
    "    cost = []\n",
    "    m=X.shape[0]\n",
    "    for i in range(iterations):\n",
    "        \n",
    "        yhat = X*Theta\n",
    "        cost.append(Cost(yhat,y))\n",
    "        Theta = Theta - (learning_rate/m)*(X.T*(yhat-y)) # derivative of the cost function\n",
    "    coefs = Theta[1:,:]\n",
    "    intercept = float(Theta[0,0])\n",
    "    return coefs, intercept,cost\n",
    "    \n",
    "\n",
    "coefs,intercept, cost  = Linear_fit(X,y,10000,0.01)\n",
    "print(\"The fitted coefficients are: \")\n",
    "print(coefs,intercept)\n",
    "\n",
    "print(\"y and predicted y are: \")\n",
    "print(y.T)\n",
    "print(np.array(coefs.T*X.T)+intercept)\n",
    "\n",
    "plt.plot(np.array(cost))\n",
    "plt.show()\n"
   ]
  },
  {
   "cell_type": "markdown",
   "metadata": {},
   "source": [
    "It is clear that gradient descent has provided reasonable values for coefficient\n",
    "\n",
    "close to the true values of [2,1,2].\n",
    "\n",
    "however, the constant value of 5 i added to y has not been taken into account.\n",
    "\n",
    "This is because the algorithm has overfitted the data and not penalised the use of feature over that of the constant.\n",
    "\n",
    "Part 2. Regularisation\n",
    "\n",
    "Here, we overcome the problem of overfitting by introducing regularisation into the algorithm.\n",
    "\n",
    "the feature coefficients are penalised such that only predictive features are used and an appropriate additive constant\n",
    "\n",
    "can be found.\n",
    "\n",
    "To exacerbate the overfitting problem, this time i will add more feature which have no predictive value.\n",
    "\n",
    "Increasing the number of features without increasing the amount of data often leads to overfitting as\n",
    "\n",
    "there are more degrees of freedom in the model with more features.\n"
   ]
  },
  {
   "cell_type": "code",
   "execution_count": 3,
   "metadata": {},
   "outputs": [
    {
     "name": "stdout",
     "output_type": "stream",
     "text": [
      "The fitted coefficients without regularisation are: \n",
      "[[ 2.34896098]\n",
      " [ 1.28394471]\n",
      " [ 2.79559115]\n",
      " [-0.04822455]\n",
      " [-0.23647519]\n",
      " [-0.08976768]] 0.8340822672430663\n",
      "y and predicted y are: \n",
      "[[21 28 28 25 31 28]]\n",
      "[[20.99999997 28.00000012 27.99999996 24.99999968 30.99999996 28.00000023]]\n",
      "\n",
      "\n",
      "The fitted coefficients with regularisation are: \n",
      "[[1.97678645]\n",
      " [0.94475122]\n",
      " [1.55755922]\n",
      " [0.19527447]\n",
      " [0.24428744]\n",
      " [0.01988124]] 4.828905478031812\n",
      "y and predicted y are: \n",
      "[[21 28 28 25 31 28]]\n",
      "[[20.97174279 28.23952169 27.90720668 24.51382919 30.97843267 28.16811802]]\n"
     ]
    },
    {
     "data": {
      "image/png": "[encoded data removed]",
      "text/plain": [
       "<Figure size 432x288 with 1 Axes>"
      ]
     },
     "metadata": {
      "needs_background": "light"
     },
     "output_type": "display_data"
    }
   ],
   "source": [
    "def Linear_fit(X,y,iterations,learning_rate,regularise=False,Regularisation_Coeff=0.01):\n",
    "    \"\"\"Uses gradient descent (least-squares) to fit a linear model\"\"\"\n",
    "    \n",
    "    # first we add a column of ones for the constant\n",
    "    X = np.concatenate((np.matrix(np.ones((X.shape[0],1))),X), axis=1)\n",
    "    \n",
    "    # Then we initiate the vector representing the cofactors in the model\n",
    "    Theta = np.matrix(np.zeros((1,X.shape[1]))).T\n",
    "    cost = []\n",
    "\n",
    "    m=X.shape[0]\n",
    "    for i in range(iterations):\n",
    "        \n",
    "        yhat = X*Theta\n",
    "        cost.append(Cost(yhat,y))\n",
    "        \n",
    "        if regularise==False:\n",
    "            # standard gradient descent algorithm\n",
    "            Theta = Theta - (learning_rate/m)*(X.T*(yhat-y))\n",
    "        elif regularise==True:\n",
    "            # Regularisation of features but not of constant (Theta[0,0])\n",
    "            Theta[0,0] = Theta[0,0] - (learning_rate/m)*(np.sum(yhat-y))\n",
    "            Theta[1:,:] = Theta[1:,:]*(1- ((learning_rate*Regularisation_Coeff)/m)) - (learning_rate/m)*((X.T*(yhat-y))[1:,:])\n",
    "        else:\n",
    "            print(\"regularise must equal True or False\")\n",
    "            return None\n",
    "            \n",
    "    coefs = Theta[1:,:]\n",
    "    intercept = float(Theta[0,0])\n",
    "    return coefs, intercept, cost\n",
    "\n",
    "\n",
    "x1 = np.matrix([1,2,3,4,5,6])\n",
    "x2 = np.matrix([6,9,3,6,2,5])\n",
    "x3 = np.matrix([4,5,7,3,7,3])\n",
    "\n",
    "# this time we have 3 more (non-predictive) columns\n",
    "x4 = np.matrix([11,1,1,1,5,4])\n",
    "x5 = np.matrix([0,12,13,5,9,5])\n",
    "x6 = np.matrix([6,2,2,1,15,4])\n",
    "\n",
    "\n",
    "X = np.matrix(np.concatenate((x1,x2,x3,x4,x5,x6), axis=0)).T\n",
    "y = 5 + X*(np.matrix([2,1,2,0,0,0]).T)\n",
    "\n",
    "\n",
    "coefs,intercept, cost  = Linear_fit(X,y,10000,0.01,regularise=False)\n",
    "print(\"The fitted coefficients without regularisation are: \")\n",
    "print(coefs,intercept)\n",
    "\n",
    "print(\"y and predicted y are: \")\n",
    "print(y.T)\n",
    "print(np.array(coefs.T*X.T)+intercept)\n",
    "print(\"\\n\")\n",
    "\n",
    "\n",
    "coefs,intercept,cost  = Linear_fit(X,y,10000,0.01,regularise=True,Regularisation_Coeff=0.45)\n",
    "print(\"The fitted coefficients with regularisation are: \")\n",
    "print(coefs,intercept)\n",
    "\n",
    "print(\"y and predicted y are: \")\n",
    "print(y.T)\n",
    "print(np.array(coefs.T*X.T)+intercept)\n",
    "\n",
    "plt.plot(np.array(cost))\n",
    "plt.show()"
   ]
  },
  {
   "cell_type": "markdown",
   "metadata": {},
   "source": [
    "The constan of 4.8 here is much closer to the actual value of 5.\n",
    "and so even with a higher number of features, it is possible to prevent overfitting with the use of regularisation."
   ]
  }
 ],
 "metadata": {
  "kernelspec": {
   "display_name": "Python 3",
   "language": "python",
   "name": "python3"
  },
  "language_info": {
   "codemirror_mode": {
    "name": "ipython",
    "version": 3
   },
   "file_extension": ".py",
   "mimetype": "text/x-python",
   "name": "python",
   "nbconvert_exporter": "python",
   "pygments_lexer": "ipython3",
   "version": "3.7.3"
  }
 },
 "nbformat": 4,
 "nbformat_minor": 2
}
